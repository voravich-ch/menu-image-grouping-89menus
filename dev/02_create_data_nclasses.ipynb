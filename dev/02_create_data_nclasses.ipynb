{
 "cells": [
  {
   "cell_type": "markdown",
   "metadata": {},
   "source": [
    "<h1>Create folders<h/>"
   ]
  },
  {
   "cell_type": "code",
   "execution_count": 1,
   "metadata": {},
   "outputs": [],
   "source": [
    "import pandas as pd\n",
    "import numpy as np\n",
    "import os"
   ]
  },
  {
   "cell_type": "code",
   "execution_count": 2,
   "metadata": {},
   "outputs": [],
   "source": [
    "#Import food_cleaned.csv which contains information about the cleaned data\n",
    "food_cleaned = pd.read_csv(\"food_cleaned_cropped.csv\")"
   ]
  },
  {
   "cell_type": "code",
   "execution_count": 3,
   "metadata": {},
   "outputs": [],
   "source": [
    "#Prepare table for pivot table\n",
    "food_cleaned['count'] = 1"
   ]
  },
  {
   "cell_type": "code",
   "execution_count": 4,
   "metadata": {},
   "outputs": [],
   "source": [
    "#Create pivot table to sort product names by number of pictures\n",
    "pivot = pd.pivot_table(food_cleaned, index = 'product_name', values = 'count', aggfunc = np.sum).sort_values('count', ascending = False).reset_index()"
   ]
  },
  {
   "cell_type": "code",
   "execution_count": 5,
   "metadata": {},
   "outputs": [],
   "source": [
    "classes = pivot['product_name'].unique()"
   ]
  },
  {
   "cell_type": "code",
   "execution_count": 6,
   "metadata": {},
   "outputs": [
    {
     "data": {
      "text/plain": [
       "ขนมปัง              93\n",
       "ข้าวเหนียวมะม่วง    91\n",
       "ไข่ตุ๋น             85\n",
       "ชาบู                70\n",
       "ไอศกรีม             66\n",
       "ขนมปังสังขยา        58\n",
       "เค้ก                47\n",
       "เค้กมะพร้าว         45\n",
       "ซุปเห็ด             39\n",
       "ขนมถ้วย              9\n",
       "Name: product_name, dtype: int64"
      ]
     },
     "execution_count": 6,
     "metadata": {},
     "output_type": "execute_result"
    }
   ],
   "source": [
    "#See classes with lowest number of images\n",
    "food_cleaned.product_name.value_counts().tail(10)"
   ]
  },
  {
   "cell_type": "code",
   "execution_count": 7,
   "metadata": {},
   "outputs": [
    {
     "name": "stdout",
     "output_type": "stream",
     "text": [
      "94\n"
     ]
    }
   ],
   "source": [
    "#Print number of classes\n",
    "print(len(classes))"
   ]
  },
  {
   "cell_type": "code",
   "execution_count": 8,
   "metadata": {},
   "outputs": [],
   "source": [
    "# Let's initiate the number of classes\n",
    "# using menus with 60 or more pics\n",
    "num_class = 89\n",
    "classes = classes[:num_class]"
   ]
  },
  {
   "cell_type": "code",
   "execution_count": 9,
   "metadata": {},
   "outputs": [
    {
     "data": {
      "text/plain": [
       "array(['ส้มตำ', 'ลาบ', 'ข้าวผัด', 'ไก่ทอด', 'ปลาหมึกผัดไข่เค็ม',\n",
       "       'ปลากระพงทอดน้ำปลา', 'ผัดไทกุ้งสด', 'สลัด', 'กุ้งเผา', 'ต้มยำ',\n",
       "       'คอหมูย่าง', 'Salmon Sashimi', 'ไก่ย่าง', 'ข้าวหมูแดง',\n",
       "       'กุ้งอบวุ้นเส้น', 'ขนมจีน', 'ข้าวซอยไก่', 'ข้าวคลุกกะปิ',\n",
       "       'ยำวุ้นเส้น', 'กุ้งแช่น้ำปลา', 'ข้าวขาหมู', 'ตับหวาน',\n",
       "       'ใบเหลียงผัดไข่', 'ทอดมันกุ้ง', 'ทอดมันปลากราย', 'ไข่เจียว',\n",
       "       'ข้าวมันไก่', 'ขนมจีบ', 'ก๋วยเตี๋ยวคั่วไก่', 'ก๋วยเตี๋ยวต้มยำ',\n",
       "       'น้ำตกหมู', 'สปาเก็ตตี้คาโบนาร่า', 'บะหมี่แห้ง', 'หมูแดดเดียว',\n",
       "       'ปูผัดผงกะหรี่', 'ปูนิ่มทอดกระเทียม', 'สปาเก็ตตี้ขี้เมาทะเล',\n",
       "       'เย็นตาโฟ', 'ยำแซลมอน', 'Pizza', 'ยำถั่วพลู', 'หมูสะเต๊ะ',\n",
       "       'ข้าวหน้าเป็ด', 'เป็ดย่าง', 'ข้าวหมกไก่', 'ข้าวหมูกรอบ', 'ออส่วน',\n",
       "       'ยำหมูยอ', 'หอยแครงลวก', 'เกี๊ยวซ่า', 'ยำปลาดุกฟู', 'ยำสาหร่าย',\n",
       "       'เป็ดพะโล้', 'หมูมะนาว', 'หมูกรอบ', 'ทาโกะยากิ', 'ข้าวผัดกระเทียม',\n",
       "       'แกงส้มชะอมกุ้ง', 'ผักโขมอบชีส', 'สเต็กหมู', 'เป็ดปักกิ่ง',\n",
       "       'ปูม้านึ่ง', 'ขาหมูเยอรมัน', 'ข้าวหน้าเนื้อ', 'แหนมเนือง',\n",
       "       'honey toast', 'ติ่มซำ', 'ไข่กระทะ', 'เนื้อย่าง', 'ไส้อั่ว',\n",
       "       'ต้มแซ่บกระดูกอ่อน', 'ก๋วยเตี๋ยวเรือ', 'เกี๊ยวทอด', 'แกงคั่วหอยขม',\n",
       "       'ก๋วยจั๊บ', 'ปอเปี๊ยะทอด', 'ขนมปังปิ้ง', 'กระเพาะปลา',\n",
       "       'ต้มเลือดหมู', 'ปลากระพงนึ่งมะนาว', 'หอยนางรม', 'ฮะเก๋า',\n",
       "       'ก๋วยจั๊บญวน', 'ขนมปัง', 'น้ำพริกไข่ปู', 'ข้าวเหนียวมะม่วง',\n",
       "       'ไข่ตุ๋น', 'ชาบู', 'ไอศกรีม'], dtype=object)"
      ]
     },
     "execution_count": 9,
     "metadata": {},
     "output_type": "execute_result"
    }
   ],
   "source": [
    "classes"
   ]
  },
  {
   "cell_type": "code",
   "execution_count": 10,
   "metadata": {},
   "outputs": [],
   "source": [
    "#Let's select only the rows of menus you want to analyze \n",
    "food_cleaned = food_cleaned[food_cleaned['product_name'].isin(classes)]"
   ]
  },
  {
   "cell_type": "code",
   "execution_count": 11,
   "metadata": {},
   "outputs": [
    {
     "name": "stdout",
     "output_type": "stream",
     "text": [
      "89\n"
     ]
    }
   ],
   "source": [
    "#Print number of classes we selected\n",
    "print(len(food_cleaned.product_name.unique()))"
   ]
  },
  {
   "cell_type": "code",
   "execution_count": 12,
   "metadata": {},
   "outputs": [],
   "source": [
    "#Initiate random seed //I just feel like I want to use 2 lol!\n",
    "np.random.seed(2)"
   ]
  },
  {
   "cell_type": "code",
   "execution_count": 13,
   "metadata": {},
   "outputs": [],
   "source": [
    "#Just want to change the name\n",
    "dev_data = food_cleaned"
   ]
  },
  {
   "cell_type": "code",
   "execution_count": 14,
   "metadata": {},
   "outputs": [
    {
     "data": {
      "text/html": [
       "<div>\n",
       "<style scoped>\n",
       "    .dataframe tbody tr th:only-of-type {\n",
       "        vertical-align: middle;\n",
       "    }\n",
       "\n",
       "    .dataframe tbody tr th {\n",
       "        vertical-align: top;\n",
       "    }\n",
       "\n",
       "    .dataframe thead th {\n",
       "        text-align: right;\n",
       "    }\n",
       "</style>\n",
       "<table border=\"1\" class=\"dataframe\">\n",
       "  <thead>\n",
       "    <tr style=\"text-align: right;\">\n",
       "      <th></th>\n",
       "      <th>aesthetic_score</th>\n",
       "      <th>photo_eid</th>\n",
       "      <th>pic_url</th>\n",
       "      <th>product_id</th>\n",
       "      <th>product_name</th>\n",
       "      <th>res_id</th>\n",
       "      <th>res_name</th>\n",
       "      <th>number_of_object</th>\n",
       "      <th>bbox_ratio</th>\n",
       "      <th>real_x1</th>\n",
       "      <th>real_x2</th>\n",
       "      <th>real_y1</th>\n",
       "      <th>real_y2</th>\n",
       "      <th>count</th>\n",
       "    </tr>\n",
       "  </thead>\n",
       "  <tbody>\n",
       "    <tr>\n",
       "      <th>0</th>\n",
       "      <td>0.617797</td>\n",
       "      <td>406260216c71469e834a5635fec6bac3</td>\n",
       "      <td>https://img.wongnai.com/p/1920x0/2016/02/16/40...</td>\n",
       "      <td>1181038.0</td>\n",
       "      <td>ส้มตำ</td>\n",
       "      <td>215872.0</td>\n",
       "      <td>Isaan and Brew</td>\n",
       "      <td>1.0</td>\n",
       "      <td>0.270742</td>\n",
       "      <td>399.0</td>\n",
       "      <td>871.0</td>\n",
       "      <td>181.0</td>\n",
       "      <td>581.0</td>\n",
       "      <td>1</td>\n",
       "    </tr>\n",
       "    <tr>\n",
       "      <th>1</th>\n",
       "      <td>0.598124</td>\n",
       "      <td>c58c86dad8d24fffaa461efbb5286620</td>\n",
       "      <td>https://img.wongnai.com/p/1920x0/2017/11/09/c5...</td>\n",
       "      <td>1668755.0</td>\n",
       "      <td>ส้มตำ</td>\n",
       "      <td>298416.0</td>\n",
       "      <td>ล้านต๋ำส้ม</td>\n",
       "      <td>1.0</td>\n",
       "      <td>0.641056</td>\n",
       "      <td>153.0</td>\n",
       "      <td>1691.0</td>\n",
       "      <td>153.0</td>\n",
       "      <td>1307.0</td>\n",
       "      <td>1</td>\n",
       "    </tr>\n",
       "    <tr>\n",
       "      <th>2</th>\n",
       "      <td>0.596057</td>\n",
       "      <td>e70383a17c85421581cd5e0aa9dcef1b</td>\n",
       "      <td>https://img.wongnai.com/p/1920x0/2018/10/11/e7...</td>\n",
       "      <td>10271622.0</td>\n",
       "      <td>ส้มตำ</td>\n",
       "      <td>303852.0</td>\n",
       "      <td>หมูปลาร้าสายซิ่ง</td>\n",
       "      <td>1.0</td>\n",
       "      <td>0.437967</td>\n",
       "      <td>270.0</td>\n",
       "      <td>1689.0</td>\n",
       "      <td>270.0</td>\n",
       "      <td>1013.0</td>\n",
       "      <td>1</td>\n",
       "    </tr>\n",
       "    <tr>\n",
       "      <th>3</th>\n",
       "      <td>0.591579</td>\n",
       "      <td>d6f00625c28645d98d0bbaee7a9d9608</td>\n",
       "      <td>https://img.wongnai.com/p/1920x0/2017/05/30/d6...</td>\n",
       "      <td>553634.0</td>\n",
       "      <td>ส้มตำ</td>\n",
       "      <td>9882.0</td>\n",
       "      <td>เป็นลาว</td>\n",
       "      <td>1.0</td>\n",
       "      <td>0.454240</td>\n",
       "      <td>85.0</td>\n",
       "      <td>653.0</td>\n",
       "      <td>113.0</td>\n",
       "      <td>454.0</td>\n",
       "      <td>1</td>\n",
       "    </tr>\n",
       "    <tr>\n",
       "      <th>4</th>\n",
       "      <td>0.591075</td>\n",
       "      <td>8f8443b79f6c4225b686c8fdca1a5a6f</td>\n",
       "      <td>https://img.wongnai.com/p/1920x0/2017/10/12/8f...</td>\n",
       "      <td>1532062.0</td>\n",
       "      <td>ส้มตำ</td>\n",
       "      <td>289648.0</td>\n",
       "      <td>แซ่บซี่ by อุดร</td>\n",
       "      <td>1.0</td>\n",
       "      <td>0.354295</td>\n",
       "      <td>540.0</td>\n",
       "      <td>1687.0</td>\n",
       "      <td>337.0</td>\n",
       "      <td>1080.0</td>\n",
       "      <td>1</td>\n",
       "    </tr>\n",
       "    <tr>\n",
       "      <th>...</th>\n",
       "      <td>...</td>\n",
       "      <td>...</td>\n",
       "      <td>...</td>\n",
       "      <td>...</td>\n",
       "      <td>...</td>\n",
       "      <td>...</td>\n",
       "      <td>...</td>\n",
       "      <td>...</td>\n",
       "      <td>...</td>\n",
       "      <td>...</td>\n",
       "      <td>...</td>\n",
       "      <td>...</td>\n",
       "      <td>...</td>\n",
       "      <td>...</td>\n",
       "    </tr>\n",
       "    <tr>\n",
       "      <th>46489</th>\n",
       "      <td>0.042405</td>\n",
       "      <td>59fa9ae3f98e40249d3926f5edc0bd32</td>\n",
       "      <td>https://img.wongnai.com/p/1920x0/2017/12/16/59...</td>\n",
       "      <td>1726841.0</td>\n",
       "      <td>ไส้อั่ว</td>\n",
       "      <td>219193.0</td>\n",
       "      <td>ไก่ทอดจอย ข้างสถานีรถไฟเชียงใหม่</td>\n",
       "      <td>1.0</td>\n",
       "      <td>0.735833</td>\n",
       "      <td>38.0</td>\n",
       "      <td>921.0</td>\n",
       "      <td>76.0</td>\n",
       "      <td>652.0</td>\n",
       "      <td>1</td>\n",
       "    </tr>\n",
       "    <tr>\n",
       "      <th>46490</th>\n",
       "      <td>0.041342</td>\n",
       "      <td>2cbc74c4fc474b5d9b58151ea5546b27</td>\n",
       "      <td>https://img.wongnai.com/p/1920x0/2016/12/29/2c...</td>\n",
       "      <td>1338636.0</td>\n",
       "      <td>ไส้อั่ว</td>\n",
       "      <td>260435.0</td>\n",
       "      <td>ไส้อั่ว อุ้ยเพชร</td>\n",
       "      <td>1.0</td>\n",
       "      <td>0.942844</td>\n",
       "      <td>153.0</td>\n",
       "      <td>1459.0</td>\n",
       "      <td>0.0</td>\n",
       "      <td>1996.0</td>\n",
       "      <td>1</td>\n",
       "    </tr>\n",
       "    <tr>\n",
       "      <th>46491</th>\n",
       "      <td>0.137491</td>\n",
       "      <td>5b403c49e20542209463a53a466b0464</td>\n",
       "      <td>https://img.wongnai.com/p/1920x0/2016/04/06/5b...</td>\n",
       "      <td>2798080.0</td>\n",
       "      <td>ข้าวหน้าเนื้อ</td>\n",
       "      <td>11728.0</td>\n",
       "      <td>Yoshinoya</td>\n",
       "      <td>1.0</td>\n",
       "      <td>0.737438</td>\n",
       "      <td>81.0</td>\n",
       "      <td>1024.0</td>\n",
       "      <td>81.0</td>\n",
       "      <td>696.0</td>\n",
       "      <td>1</td>\n",
       "    </tr>\n",
       "    <tr>\n",
       "      <th>46492</th>\n",
       "      <td>0.136769</td>\n",
       "      <td>5649ea59c6e34904b1f78fa0aa8b567e</td>\n",
       "      <td>https://img.wongnai.com/p/1920x0/2017/10/17/56...</td>\n",
       "      <td>8413072.0</td>\n",
       "      <td>ข้าวหน้าเนื้อ</td>\n",
       "      <td>236814.0</td>\n",
       "      <td>Oishi Ramen โออิชิราเมน</td>\n",
       "      <td>1.0</td>\n",
       "      <td>0.688656</td>\n",
       "      <td>153.0</td>\n",
       "      <td>1612.0</td>\n",
       "      <td>230.0</td>\n",
       "      <td>1535.0</td>\n",
       "      <td>1</td>\n",
       "    </tr>\n",
       "    <tr>\n",
       "      <th>46493</th>\n",
       "      <td>0.133773</td>\n",
       "      <td>73ba173debcb43d39ee52b9a883b6825</td>\n",
       "      <td>https://img.wongnai.com/p/1920x0/2017/12/03/73...</td>\n",
       "      <td>2963977.0</td>\n",
       "      <td>ข้าวหน้าเนื้อ</td>\n",
       "      <td>18018.0</td>\n",
       "      <td>ChouNan</td>\n",
       "      <td>1.0</td>\n",
       "      <td>0.498856</td>\n",
       "      <td>307.0</td>\n",
       "      <td>1689.0</td>\n",
       "      <td>230.0</td>\n",
       "      <td>1228.0</td>\n",
       "      <td>1</td>\n",
       "    </tr>\n",
       "  </tbody>\n",
       "</table>\n",
       "<p>46296 rows × 14 columns</p>\n",
       "</div>"
      ],
      "text/plain": [
       "       aesthetic_score                         photo_eid  \\\n",
       "0             0.617797  406260216c71469e834a5635fec6bac3   \n",
       "1             0.598124  c58c86dad8d24fffaa461efbb5286620   \n",
       "2             0.596057  e70383a17c85421581cd5e0aa9dcef1b   \n",
       "3             0.591579  d6f00625c28645d98d0bbaee7a9d9608   \n",
       "4             0.591075  8f8443b79f6c4225b686c8fdca1a5a6f   \n",
       "...                ...                               ...   \n",
       "46489         0.042405  59fa9ae3f98e40249d3926f5edc0bd32   \n",
       "46490         0.041342  2cbc74c4fc474b5d9b58151ea5546b27   \n",
       "46491         0.137491  5b403c49e20542209463a53a466b0464   \n",
       "46492         0.136769  5649ea59c6e34904b1f78fa0aa8b567e   \n",
       "46493         0.133773  73ba173debcb43d39ee52b9a883b6825   \n",
       "\n",
       "                                                 pic_url  product_id  \\\n",
       "0      https://img.wongnai.com/p/1920x0/2016/02/16/40...   1181038.0   \n",
       "1      https://img.wongnai.com/p/1920x0/2017/11/09/c5...   1668755.0   \n",
       "2      https://img.wongnai.com/p/1920x0/2018/10/11/e7...  10271622.0   \n",
       "3      https://img.wongnai.com/p/1920x0/2017/05/30/d6...    553634.0   \n",
       "4      https://img.wongnai.com/p/1920x0/2017/10/12/8f...   1532062.0   \n",
       "...                                                  ...         ...   \n",
       "46489  https://img.wongnai.com/p/1920x0/2017/12/16/59...   1726841.0   \n",
       "46490  https://img.wongnai.com/p/1920x0/2016/12/29/2c...   1338636.0   \n",
       "46491  https://img.wongnai.com/p/1920x0/2016/04/06/5b...   2798080.0   \n",
       "46492  https://img.wongnai.com/p/1920x0/2017/10/17/56...   8413072.0   \n",
       "46493  https://img.wongnai.com/p/1920x0/2017/12/03/73...   2963977.0   \n",
       "\n",
       "        product_name    res_id                          res_name  \\\n",
       "0              ส้มตำ  215872.0                    Isaan and Brew   \n",
       "1              ส้มตำ  298416.0                        ล้านต๋ำส้ม   \n",
       "2              ส้มตำ  303852.0                  หมูปลาร้าสายซิ่ง   \n",
       "3              ส้มตำ    9882.0                           เป็นลาว   \n",
       "4              ส้มตำ  289648.0                   แซ่บซี่ by อุดร   \n",
       "...              ...       ...                               ...   \n",
       "46489        ไส้อั่ว  219193.0  ไก่ทอดจอย ข้างสถานีรถไฟเชียงใหม่   \n",
       "46490        ไส้อั่ว  260435.0                  ไส้อั่ว อุ้ยเพชร   \n",
       "46491  ข้าวหน้าเนื้อ   11728.0                         Yoshinoya   \n",
       "46492  ข้าวหน้าเนื้อ  236814.0           Oishi Ramen โออิชิราเมน   \n",
       "46493  ข้าวหน้าเนื้อ   18018.0                           ChouNan   \n",
       "\n",
       "       number_of_object  bbox_ratio  real_x1  real_x2  real_y1  real_y2  count  \n",
       "0                   1.0    0.270742    399.0    871.0    181.0    581.0      1  \n",
       "1                   1.0    0.641056    153.0   1691.0    153.0   1307.0      1  \n",
       "2                   1.0    0.437967    270.0   1689.0    270.0   1013.0      1  \n",
       "3                   1.0    0.454240     85.0    653.0    113.0    454.0      1  \n",
       "4                   1.0    0.354295    540.0   1687.0    337.0   1080.0      1  \n",
       "...                 ...         ...      ...      ...      ...      ...    ...  \n",
       "46489               1.0    0.735833     38.0    921.0     76.0    652.0      1  \n",
       "46490               1.0    0.942844    153.0   1459.0      0.0   1996.0      1  \n",
       "46491               1.0    0.737438     81.0   1024.0     81.0    696.0      1  \n",
       "46492               1.0    0.688656    153.0   1612.0    230.0   1535.0      1  \n",
       "46493               1.0    0.498856    307.0   1689.0    230.0   1228.0      1  \n",
       "\n",
       "[46296 rows x 14 columns]"
      ]
     },
     "execution_count": 14,
     "metadata": {},
     "output_type": "execute_result"
    }
   ],
   "source": [
    "dev_data"
   ]
  },
  {
   "cell_type": "code",
   "execution_count": 15,
   "metadata": {},
   "outputs": [
    {
     "data": {
      "text/plain": [
       "ส้มตำ                5099\n",
       "ลาบ                  1979\n",
       "ข้าวผัด              1882\n",
       "ไก่ทอด               1503\n",
       "ปลาหมึกผัดไข่เค็ม    1342\n",
       "                     ... \n",
       "น้ำพริกไข่ปู           93\n",
       "ข้าวเหนียวมะม่วง       91\n",
       "ไข่ตุ๋น                85\n",
       "ชาบู                   70\n",
       "ไอศกรีม                66\n",
       "Name: product_name, Length: 89, dtype: int64"
      ]
     },
     "execution_count": 15,
     "metadata": {},
     "output_type": "execute_result"
    }
   ],
   "source": [
    "#Let's see the number of images we have in each class\n",
    "dev_data.product_name.value_counts()"
   ]
  },
  {
   "cell_type": "code",
   "execution_count": 16,
   "metadata": {},
   "outputs": [
    {
     "data": {
      "text/html": [
       "<div>\n",
       "<style scoped>\n",
       "    .dataframe tbody tr th:only-of-type {\n",
       "        vertical-align: middle;\n",
       "    }\n",
       "\n",
       "    .dataframe tbody tr th {\n",
       "        vertical-align: top;\n",
       "    }\n",
       "\n",
       "    .dataframe thead th {\n",
       "        text-align: right;\n",
       "    }\n",
       "</style>\n",
       "<table border=\"1\" class=\"dataframe\">\n",
       "  <thead>\n",
       "    <tr style=\"text-align: right;\">\n",
       "      <th></th>\n",
       "      <th>aesthetic_score</th>\n",
       "      <th>photo_eid</th>\n",
       "      <th>pic_url</th>\n",
       "      <th>product_id</th>\n",
       "      <th>product_name</th>\n",
       "      <th>res_id</th>\n",
       "      <th>res_name</th>\n",
       "      <th>number_of_object</th>\n",
       "      <th>bbox_ratio</th>\n",
       "      <th>real_x1</th>\n",
       "      <th>real_x2</th>\n",
       "      <th>real_y1</th>\n",
       "      <th>real_y2</th>\n",
       "      <th>count</th>\n",
       "    </tr>\n",
       "  </thead>\n",
       "  <tbody>\n",
       "    <tr>\n",
       "      <th>0</th>\n",
       "      <td>0.617797</td>\n",
       "      <td>406260216c71469e834a5635fec6bac3</td>\n",
       "      <td>https://img.wongnai.com/p/1920x0/2016/02/16/40...</td>\n",
       "      <td>1181038.0</td>\n",
       "      <td>ส้มตำ</td>\n",
       "      <td>215872.0</td>\n",
       "      <td>Isaan and Brew</td>\n",
       "      <td>1.0</td>\n",
       "      <td>0.270742</td>\n",
       "      <td>399.0</td>\n",
       "      <td>871.0</td>\n",
       "      <td>181.0</td>\n",
       "      <td>581.0</td>\n",
       "      <td>1</td>\n",
       "    </tr>\n",
       "    <tr>\n",
       "      <th>1</th>\n",
       "      <td>0.598124</td>\n",
       "      <td>c58c86dad8d24fffaa461efbb5286620</td>\n",
       "      <td>https://img.wongnai.com/p/1920x0/2017/11/09/c5...</td>\n",
       "      <td>1668755.0</td>\n",
       "      <td>ส้มตำ</td>\n",
       "      <td>298416.0</td>\n",
       "      <td>ล้านต๋ำส้ม</td>\n",
       "      <td>1.0</td>\n",
       "      <td>0.641056</td>\n",
       "      <td>153.0</td>\n",
       "      <td>1691.0</td>\n",
       "      <td>153.0</td>\n",
       "      <td>1307.0</td>\n",
       "      <td>1</td>\n",
       "    </tr>\n",
       "    <tr>\n",
       "      <th>2</th>\n",
       "      <td>0.596057</td>\n",
       "      <td>e70383a17c85421581cd5e0aa9dcef1b</td>\n",
       "      <td>https://img.wongnai.com/p/1920x0/2018/10/11/e7...</td>\n",
       "      <td>10271622.0</td>\n",
       "      <td>ส้มตำ</td>\n",
       "      <td>303852.0</td>\n",
       "      <td>หมูปลาร้าสายซิ่ง</td>\n",
       "      <td>1.0</td>\n",
       "      <td>0.437967</td>\n",
       "      <td>270.0</td>\n",
       "      <td>1689.0</td>\n",
       "      <td>270.0</td>\n",
       "      <td>1013.0</td>\n",
       "      <td>1</td>\n",
       "    </tr>\n",
       "    <tr>\n",
       "      <th>3</th>\n",
       "      <td>0.591579</td>\n",
       "      <td>d6f00625c28645d98d0bbaee7a9d9608</td>\n",
       "      <td>https://img.wongnai.com/p/1920x0/2017/05/30/d6...</td>\n",
       "      <td>553634.0</td>\n",
       "      <td>ส้มตำ</td>\n",
       "      <td>9882.0</td>\n",
       "      <td>เป็นลาว</td>\n",
       "      <td>1.0</td>\n",
       "      <td>0.454240</td>\n",
       "      <td>85.0</td>\n",
       "      <td>653.0</td>\n",
       "      <td>113.0</td>\n",
       "      <td>454.0</td>\n",
       "      <td>1</td>\n",
       "    </tr>\n",
       "    <tr>\n",
       "      <th>4</th>\n",
       "      <td>0.591075</td>\n",
       "      <td>8f8443b79f6c4225b686c8fdca1a5a6f</td>\n",
       "      <td>https://img.wongnai.com/p/1920x0/2017/10/12/8f...</td>\n",
       "      <td>1532062.0</td>\n",
       "      <td>ส้มตำ</td>\n",
       "      <td>289648.0</td>\n",
       "      <td>แซ่บซี่ by อุดร</td>\n",
       "      <td>1.0</td>\n",
       "      <td>0.354295</td>\n",
       "      <td>540.0</td>\n",
       "      <td>1687.0</td>\n",
       "      <td>337.0</td>\n",
       "      <td>1080.0</td>\n",
       "      <td>1</td>\n",
       "    </tr>\n",
       "    <tr>\n",
       "      <th>...</th>\n",
       "      <td>...</td>\n",
       "      <td>...</td>\n",
       "      <td>...</td>\n",
       "      <td>...</td>\n",
       "      <td>...</td>\n",
       "      <td>...</td>\n",
       "      <td>...</td>\n",
       "      <td>...</td>\n",
       "      <td>...</td>\n",
       "      <td>...</td>\n",
       "      <td>...</td>\n",
       "      <td>...</td>\n",
       "      <td>...</td>\n",
       "      <td>...</td>\n",
       "    </tr>\n",
       "    <tr>\n",
       "      <th>38711</th>\n",
       "      <td>0.016929</td>\n",
       "      <td>aca0a6809f3e436f852bcbc719099394</td>\n",
       "      <td>https://img.wongnai.com/p/1920x0/2018/05/03/ac...</td>\n",
       "      <td>1929267.0</td>\n",
       "      <td>ไอศกรีม</td>\n",
       "      <td>243775.0</td>\n",
       "      <td>ไต้ซีฮี้ ชาบู กระทะร้อน</td>\n",
       "      <td>1.0</td>\n",
       "      <td>0.546311</td>\n",
       "      <td>230.0</td>\n",
       "      <td>1459.0</td>\n",
       "      <td>153.0</td>\n",
       "      <td>1382.0</td>\n",
       "      <td>1</td>\n",
       "    </tr>\n",
       "    <tr>\n",
       "      <th>38712</th>\n",
       "      <td>0.014398</td>\n",
       "      <td>904929017e2842049f6648a7b712b871</td>\n",
       "      <td>https://img.wongnai.com/p/1920x0/2018/04/16/90...</td>\n",
       "      <td>1900894.0</td>\n",
       "      <td>ไอศกรีม</td>\n",
       "      <td>140897.0</td>\n",
       "      <td>Iceberg</td>\n",
       "      <td>1.0</td>\n",
       "      <td>0.725625</td>\n",
       "      <td>136.0</td>\n",
       "      <td>1160.0</td>\n",
       "      <td>136.0</td>\n",
       "      <td>1297.0</td>\n",
       "      <td>1</td>\n",
       "    </tr>\n",
       "    <tr>\n",
       "      <th>38713</th>\n",
       "      <td>0.005872</td>\n",
       "      <td>9b85a29dd46045b6aac110834ec70ee6</td>\n",
       "      <td>https://img.wongnai.com/p/1920x0/2016/05/18/9b...</td>\n",
       "      <td>8140815.0</td>\n",
       "      <td>ไอศกรีม</td>\n",
       "      <td>218970.0</td>\n",
       "      <td>Shabu Bootueng</td>\n",
       "      <td>1.0</td>\n",
       "      <td>0.774061</td>\n",
       "      <td>204.0</td>\n",
       "      <td>1843.0</td>\n",
       "      <td>102.0</td>\n",
       "      <td>1843.0</td>\n",
       "      <td>1</td>\n",
       "    </tr>\n",
       "    <tr>\n",
       "      <th>38714</th>\n",
       "      <td>0.004037</td>\n",
       "      <td>c6afc18735504922aa73c7a8c68d6e9e</td>\n",
       "      <td>https://img.wongnai.com/p/1920x0/2019/01/06/c6...</td>\n",
       "      <td>1228448.0</td>\n",
       "      <td>ไอศกรีม</td>\n",
       "      <td>226680.0</td>\n",
       "      <td>Copper International Buffet</td>\n",
       "      <td>1.0</td>\n",
       "      <td>0.298611</td>\n",
       "      <td>153.0</td>\n",
       "      <td>1228.0</td>\n",
       "      <td>307.0</td>\n",
       "      <td>1075.0</td>\n",
       "      <td>1</td>\n",
       "    </tr>\n",
       "    <tr>\n",
       "      <th>38715</th>\n",
       "      <td>0.003815</td>\n",
       "      <td>9bfdf2d23b194c0cbd03429b13fe1fa2</td>\n",
       "      <td>https://img.wongnai.com/p/1920x0/2017/02/11/9b...</td>\n",
       "      <td>8016667.0</td>\n",
       "      <td>ไอศกรีม</td>\n",
       "      <td>216470.0</td>\n",
       "      <td>Shabu Indy</td>\n",
       "      <td>1.0</td>\n",
       "      <td>0.517783</td>\n",
       "      <td>204.0</td>\n",
       "      <td>1536.0</td>\n",
       "      <td>307.0</td>\n",
       "      <td>1740.0</td>\n",
       "      <td>1</td>\n",
       "    </tr>\n",
       "  </tbody>\n",
       "</table>\n",
       "<p>29598 rows × 14 columns</p>\n",
       "</div>"
      ],
      "text/plain": [
       "       aesthetic_score                         photo_eid  \\\n",
       "0             0.617797  406260216c71469e834a5635fec6bac3   \n",
       "1             0.598124  c58c86dad8d24fffaa461efbb5286620   \n",
       "2             0.596057  e70383a17c85421581cd5e0aa9dcef1b   \n",
       "3             0.591579  d6f00625c28645d98d0bbaee7a9d9608   \n",
       "4             0.591075  8f8443b79f6c4225b686c8fdca1a5a6f   \n",
       "...                ...                               ...   \n",
       "38711         0.016929  aca0a6809f3e436f852bcbc719099394   \n",
       "38712         0.014398  904929017e2842049f6648a7b712b871   \n",
       "38713         0.005872  9b85a29dd46045b6aac110834ec70ee6   \n",
       "38714         0.004037  c6afc18735504922aa73c7a8c68d6e9e   \n",
       "38715         0.003815  9bfdf2d23b194c0cbd03429b13fe1fa2   \n",
       "\n",
       "                                                 pic_url  product_id  \\\n",
       "0      https://img.wongnai.com/p/1920x0/2016/02/16/40...   1181038.0   \n",
       "1      https://img.wongnai.com/p/1920x0/2017/11/09/c5...   1668755.0   \n",
       "2      https://img.wongnai.com/p/1920x0/2018/10/11/e7...  10271622.0   \n",
       "3      https://img.wongnai.com/p/1920x0/2017/05/30/d6...    553634.0   \n",
       "4      https://img.wongnai.com/p/1920x0/2017/10/12/8f...   1532062.0   \n",
       "...                                                  ...         ...   \n",
       "38711  https://img.wongnai.com/p/1920x0/2018/05/03/ac...   1929267.0   \n",
       "38712  https://img.wongnai.com/p/1920x0/2018/04/16/90...   1900894.0   \n",
       "38713  https://img.wongnai.com/p/1920x0/2016/05/18/9b...   8140815.0   \n",
       "38714  https://img.wongnai.com/p/1920x0/2019/01/06/c6...   1228448.0   \n",
       "38715  https://img.wongnai.com/p/1920x0/2017/02/11/9b...   8016667.0   \n",
       "\n",
       "      product_name    res_id                     res_name  number_of_object  \\\n",
       "0            ส้มตำ  215872.0               Isaan and Brew               1.0   \n",
       "1            ส้มตำ  298416.0                   ล้านต๋ำส้ม               1.0   \n",
       "2            ส้มตำ  303852.0             หมูปลาร้าสายซิ่ง               1.0   \n",
       "3            ส้มตำ    9882.0                      เป็นลาว               1.0   \n",
       "4            ส้มตำ  289648.0              แซ่บซี่ by อุดร               1.0   \n",
       "...            ...       ...                          ...               ...   \n",
       "38711      ไอศกรีม  243775.0      ไต้ซีฮี้ ชาบู กระทะร้อน               1.0   \n",
       "38712      ไอศกรีม  140897.0                      Iceberg               1.0   \n",
       "38713      ไอศกรีม  218970.0               Shabu Bootueng               1.0   \n",
       "38714      ไอศกรีม  226680.0  Copper International Buffet               1.0   \n",
       "38715      ไอศกรีม  216470.0                   Shabu Indy               1.0   \n",
       "\n",
       "       bbox_ratio  real_x1  real_x2  real_y1  real_y2  count  \n",
       "0        0.270742    399.0    871.0    181.0    581.0      1  \n",
       "1        0.641056    153.0   1691.0    153.0   1307.0      1  \n",
       "2        0.437967    270.0   1689.0    270.0   1013.0      1  \n",
       "3        0.454240     85.0    653.0    113.0    454.0      1  \n",
       "4        0.354295    540.0   1687.0    337.0   1080.0      1  \n",
       "...           ...      ...      ...      ...      ...    ...  \n",
       "38711    0.546311    230.0   1459.0    153.0   1382.0      1  \n",
       "38712    0.725625    136.0   1160.0    136.0   1297.0      1  \n",
       "38713    0.774061    204.0   1843.0    102.0   1843.0      1  \n",
       "38714    0.298611    153.0   1228.0    307.0   1075.0      1  \n",
       "38715    0.517783    204.0   1536.0    307.0   1740.0      1  \n",
       "\n",
       "[29598 rows x 14 columns]"
      ]
     },
     "execution_count": 16,
     "metadata": {},
     "output_type": "execute_result"
    }
   ],
   "source": [
    "#Set the maximum number of images per class = 450\n",
    "each_menu_size = 450\n",
    "df = pd.DataFrame({})\n",
    "for i in classes:\n",
    "    menu_image = dev_data[dev_data['product_name'] == i][:450]\n",
    "    df = df.append(menu_image)\n",
    "dev_data = df\n",
    "dev_data"
   ]
  },
  {
   "cell_type": "code",
   "execution_count": 17,
   "metadata": {},
   "outputs": [],
   "source": [
    "#create \"dev_data\" and \"dev_model\" folder\n",
    "os.makedirs(\"dev_data\")\n",
    "os.makedirs(\"dev_model\")"
   ]
  },
  {
   "cell_type": "code",
   "execution_count": 18,
   "metadata": {},
   "outputs": [],
   "source": [
    "#make train,validation folders\n",
    "directories = ['train_' + str(num_class) + 'classes', 'validation_' + str(num_class) + 'classes']\n",
    "parent_dir = \"dev_data\""
   ]
  },
  {
   "cell_type": "code",
   "execution_count": 19,
   "metadata": {},
   "outputs": [],
   "source": [
    "#Create train, validation folders\n",
    "for directory in directories:\n",
    "    path = os.path.join(parent_dir, directory) \n",
    "    os.makedirs(path)"
   ]
  },
  {
   "cell_type": "code",
   "execution_count": 20,
   "metadata": {},
   "outputs": [],
   "source": [
    "#make folder for each class\n",
    "directories = dev_data['product_name'].unique()"
   ]
  },
  {
   "cell_type": "code",
   "execution_count": 21,
   "metadata": {},
   "outputs": [],
   "source": [
    "#for train\n",
    "parent_dir = \"dev_data/train_\" + str(num_class) + \"classes\""
   ]
  },
  {
   "cell_type": "code",
   "execution_count": 22,
   "metadata": {},
   "outputs": [],
   "source": [
    "#Create folder to store train_images\n",
    "for directory in directories:\n",
    "    path = os.path.join(parent_dir, directory) \n",
    "    os.makedirs(path)"
   ]
  },
  {
   "cell_type": "code",
   "execution_count": 23,
   "metadata": {},
   "outputs": [],
   "source": [
    "#for validation\n",
    "parent_dir  = \"dev_data/validation_\" + str(num_class) + \"classes\""
   ]
  },
  {
   "cell_type": "code",
   "execution_count": 24,
   "metadata": {},
   "outputs": [],
   "source": [
    "#Create folder to store validation_image\n",
    "for directory in directories:\n",
    "    path = os.path.join(parent_dir, directory) \n",
    "    os.makedirs(path)"
   ]
  },
  {
   "cell_type": "code",
   "execution_count": 25,
   "metadata": {},
   "outputs": [],
   "source": [
    "#for test\n",
    "parent_dir = \"dev_data/test_\" + str(num_class) + \"classes\""
   ]
  },
  {
   "cell_type": "code",
   "execution_count": 26,
   "metadata": {},
   "outputs": [],
   "source": [
    "#Create folder to store test_image\n",
    "for directory in directories:\n",
    "    path = os.path.join(parent_dir, directory) \n",
    "    os.makedirs(path)"
   ]
  },
  {
   "cell_type": "markdown",
   "metadata": {},
   "source": [
    " "
   ]
  },
  {
   "cell_type": "markdown",
   "metadata": {},
   "source": [
    "<h1> Copy files to each folder <h/>"
   ]
  },
  {
   "cell_type": "code",
   "execution_count": 27,
   "metadata": {},
   "outputs": [],
   "source": [
    "from shutil import copyfile\n",
    "from sys import exit"
   ]
  },
  {
   "cell_type": "code",
   "execution_count": 28,
   "metadata": {},
   "outputs": [
    {
     "name": "stderr",
     "output_type": "stream",
     "text": [
      "/opt/conda/lib/python3.7/site-packages/ipykernel_launcher.py:3: SettingWithCopyWarning: \n",
      "A value is trying to be set on a copy of a slice from a DataFrame.\n",
      "Try using .loc[row_indexer,col_indexer] = value instead\n",
      "\n",
      "See the caveats in the documentation: https://pandas.pydata.org/pandas-docs/stable/user_guide/indexing.html#returning-a-view-versus-a-copy\n",
      "  This is separate from the ipykernel package so we can avoid doing imports until\n"
     ]
    }
   ],
   "source": [
    "#Create a set of images to be included in the training dataset\n",
    "train_photo_eid = dev_data[['photo_eid', 'pic_url', 'product_name']]\n",
    "train_photo_eid['photo_eid'] = train_photo_eid['photo_eid'] + '.jpg'"
   ]
  },
  {
   "cell_type": "code",
   "execution_count": 29,
   "metadata": {},
   "outputs": [],
   "source": [
    "train_photo_eid.reset_index(inplace = True, drop = True)"
   ]
  },
  {
   "cell_type": "code",
   "execution_count": 30,
   "metadata": {},
   "outputs": [],
   "source": [
    "#Initiate random seed //Nothing special, I just like 833\n",
    "np.random.seed(833)"
   ]
  },
  {
   "cell_type": "code",
   "execution_count": 31,
   "metadata": {},
   "outputs": [],
   "source": [
    "#Sample 5% of data for validation set\n",
    "validation_photo_eid = train_photo_eid.sample(frac =.10)"
   ]
  },
  {
   "cell_type": "code",
   "execution_count": 32,
   "metadata": {},
   "outputs": [
    {
     "data": {
      "text/html": [
       "<div>\n",
       "<style scoped>\n",
       "    .dataframe tbody tr th:only-of-type {\n",
       "        vertical-align: middle;\n",
       "    }\n",
       "\n",
       "    .dataframe tbody tr th {\n",
       "        vertical-align: top;\n",
       "    }\n",
       "\n",
       "    .dataframe thead th {\n",
       "        text-align: right;\n",
       "    }\n",
       "</style>\n",
       "<table border=\"1\" class=\"dataframe\">\n",
       "  <thead>\n",
       "    <tr style=\"text-align: right;\">\n",
       "      <th></th>\n",
       "      <th>photo_eid</th>\n",
       "      <th>pic_url</th>\n",
       "      <th>product_name</th>\n",
       "    </tr>\n",
       "  </thead>\n",
       "  <tbody>\n",
       "    <tr>\n",
       "      <th>10765</th>\n",
       "      <td>6ff29abed83a40c18aee5501f2a716ac.jpg</td>\n",
       "      <td>https://img.wongnai.com/p/1920x0/2018/09/13/6f...</td>\n",
       "      <td>ทอดมันกุ้ง</td>\n",
       "    </tr>\n",
       "    <tr>\n",
       "      <th>13809</th>\n",
       "      <td>9a1be306e8414c2e92dab2af873de9df.jpg</td>\n",
       "      <td>https://img.wongnai.com/p/1920x0/2018/05/03/9a...</td>\n",
       "      <td>น้ำตกหมู</td>\n",
       "    </tr>\n",
       "    <tr>\n",
       "      <th>17567</th>\n",
       "      <td>c9b5ad444d6f428a94c2b7c8f6a7c143.jpg</td>\n",
       "      <td>https://img.wongnai.com/p/1920x0/2017/02/03/c9...</td>\n",
       "      <td>Pizza</td>\n",
       "    </tr>\n",
       "    <tr>\n",
       "      <th>4547</th>\n",
       "      <td>45cf49d5b97743619fed4f38e2bcc92c.jpg</td>\n",
       "      <td>https://img.wongnai.com/p/1920x0/2018/12/14/45...</td>\n",
       "      <td>คอหมูย่าง</td>\n",
       "    </tr>\n",
       "    <tr>\n",
       "      <th>7408</th>\n",
       "      <td>417cef0766bb4855a9f01d648edd98e8.jpg</td>\n",
       "      <td>https://img.wongnai.com/p/1920x0/2017/02/11/41...</td>\n",
       "      <td>ข้าวซอยไก่</td>\n",
       "    </tr>\n",
       "    <tr>\n",
       "      <th>...</th>\n",
       "      <td>...</td>\n",
       "      <td>...</td>\n",
       "      <td>...</td>\n",
       "    </tr>\n",
       "    <tr>\n",
       "      <th>23326</th>\n",
       "      <td>1fdc7e58e272437caef8082009f29f41.jpg</td>\n",
       "      <td>https://img.wongnai.com/p/1920x0/2017/11/08/1f...</td>\n",
       "      <td>ทาโกะยากิ</td>\n",
       "    </tr>\n",
       "    <tr>\n",
       "      <th>20796</th>\n",
       "      <td>09b7766c5fa3423c8025b496ba6e3820.jpg</td>\n",
       "      <td>https://img.wongnai.com/p/1920x0/2018/06/22/09...</td>\n",
       "      <td>ยำหมูยอ</td>\n",
       "    </tr>\n",
       "    <tr>\n",
       "      <th>8019</th>\n",
       "      <td>6c9900f770e043c7a9aa916b7a65b128.jpg</td>\n",
       "      <td>https://img.wongnai.com/p/1920x0/2018/09/08/6c...</td>\n",
       "      <td>ข้าวคลุกกะปิ</td>\n",
       "    </tr>\n",
       "    <tr>\n",
       "      <th>768</th>\n",
       "      <td>d2251f3cee5943b5be187e55a292b6fa.jpg</td>\n",
       "      <td>https://img.wongnai.com/p/1920x0/2016/02/25/d2...</td>\n",
       "      <td>ลาบ</td>\n",
       "    </tr>\n",
       "    <tr>\n",
       "      <th>24186</th>\n",
       "      <td>a148e3582ac24ae1b6c94071a4d48960.jpg</td>\n",
       "      <td>https://img.wongnai.com/p/1920x0/2017/06/05/a1...</td>\n",
       "      <td>ผักโขมอบชีส</td>\n",
       "    </tr>\n",
       "  </tbody>\n",
       "</table>\n",
       "<p>2960 rows × 3 columns</p>\n",
       "</div>"
      ],
      "text/plain": [
       "                                  photo_eid  \\\n",
       "10765  6ff29abed83a40c18aee5501f2a716ac.jpg   \n",
       "13809  9a1be306e8414c2e92dab2af873de9df.jpg   \n",
       "17567  c9b5ad444d6f428a94c2b7c8f6a7c143.jpg   \n",
       "4547   45cf49d5b97743619fed4f38e2bcc92c.jpg   \n",
       "7408   417cef0766bb4855a9f01d648edd98e8.jpg   \n",
       "...                                     ...   \n",
       "23326  1fdc7e58e272437caef8082009f29f41.jpg   \n",
       "20796  09b7766c5fa3423c8025b496ba6e3820.jpg   \n",
       "8019   6c9900f770e043c7a9aa916b7a65b128.jpg   \n",
       "768    d2251f3cee5943b5be187e55a292b6fa.jpg   \n",
       "24186  a148e3582ac24ae1b6c94071a4d48960.jpg   \n",
       "\n",
       "                                                 pic_url  product_name  \n",
       "10765  https://img.wongnai.com/p/1920x0/2018/09/13/6f...    ทอดมันกุ้ง  \n",
       "13809  https://img.wongnai.com/p/1920x0/2018/05/03/9a...      น้ำตกหมู  \n",
       "17567  https://img.wongnai.com/p/1920x0/2017/02/03/c9...         Pizza  \n",
       "4547   https://img.wongnai.com/p/1920x0/2018/12/14/45...     คอหมูย่าง  \n",
       "7408   https://img.wongnai.com/p/1920x0/2017/02/11/41...    ข้าวซอยไก่  \n",
       "...                                                  ...           ...  \n",
       "23326  https://img.wongnai.com/p/1920x0/2017/11/08/1f...     ทาโกะยากิ  \n",
       "20796  https://img.wongnai.com/p/1920x0/2018/06/22/09...       ยำหมูยอ  \n",
       "8019   https://img.wongnai.com/p/1920x0/2018/09/08/6c...  ข้าวคลุกกะปิ  \n",
       "768    https://img.wongnai.com/p/1920x0/2016/02/25/d2...           ลาบ  \n",
       "24186  https://img.wongnai.com/p/1920x0/2017/06/05/a1...   ผักโขมอบชีส  \n",
       "\n",
       "[2960 rows x 3 columns]"
      ]
     },
     "execution_count": 32,
     "metadata": {},
     "output_type": "execute_result"
    }
   ],
   "source": [
    "validation_photo_eid"
   ]
  },
  {
   "cell_type": "code",
   "execution_count": 33,
   "metadata": {},
   "outputs": [
    {
     "data": {
      "text/plain": [
       "ก๋วยจั๊บญวน         8\n",
       "ไอศกรีม             7\n",
       "ชาบู                6\n",
       "ข้าวเหนียวมะม่วง    6\n",
       "น้ำพริกไข่ปู        5\n",
       "Name: product_name, dtype: int64"
      ]
     },
     "execution_count": 33,
     "metadata": {},
     "output_type": "execute_result"
    }
   ],
   "source": [
    "#Let's see how many images we have in each class of the validation set\n",
    "validation_photo_eid.product_name.value_counts().tail()"
   ]
  },
  {
   "cell_type": "code",
   "execution_count": 34,
   "metadata": {},
   "outputs": [
    {
     "name": "stdout",
     "output_type": "stream",
     "text": [
      "89\n"
     ]
    }
   ],
   "source": [
    "#Check if the validation set still have 89 classes\n",
    "print(len(validation_photo_eid.product_name.unique()))"
   ]
  },
  {
   "cell_type": "code",
   "execution_count": 35,
   "metadata": {},
   "outputs": [],
   "source": [
    "#Remove the validation data from the training set\n",
    "train_photo_eid = train_photo_eid.drop(validation_photo_eid.index)"
   ]
  },
  {
   "cell_type": "code",
   "execution_count": 36,
   "metadata": {},
   "outputs": [],
   "source": [
    "#Initiate random seed //Nothing special, I just like 833\n",
    "np.random.seed(833)"
   ]
  },
  {
   "cell_type": "code",
   "execution_count": 37,
   "metadata": {},
   "outputs": [],
   "source": [
    "#Sample 5% of data for test set\n",
    "test_photo_eid = train_photo_eid.sample(frac =.05)"
   ]
  },
  {
   "cell_type": "code",
   "execution_count": 38,
   "metadata": {},
   "outputs": [
    {
     "data": {
      "text/plain": [
       "หอยนางรม       4\n",
       "ฮะเก๋า         3\n",
       "ชาบู           2\n",
       "ไอศกรีม        2\n",
       "ก๋วยจั๊บญวน    1\n",
       "Name: product_name, dtype: int64"
      ]
     },
     "execution_count": 38,
     "metadata": {},
     "output_type": "execute_result"
    }
   ],
   "source": [
    "#Let's see how many images we have in each class of the test set\n",
    "test_photo_eid.product_name.value_counts().tail()"
   ]
  },
  {
   "cell_type": "code",
   "execution_count": 39,
   "metadata": {},
   "outputs": [
    {
     "name": "stdout",
     "output_type": "stream",
     "text": [
      "89\n"
     ]
    }
   ],
   "source": [
    "#Check if the test set still have 89 classes\n",
    "print(len(test_photo_eid.product_name.unique()))"
   ]
  },
  {
   "cell_type": "code",
   "execution_count": 40,
   "metadata": {},
   "outputs": [],
   "source": [
    "#Remove the validation data from the training set\n",
    "train_photo_eid = train_photo_eid.drop(test_photo_eid.index)"
   ]
  },
  {
   "cell_type": "code",
   "execution_count": 41,
   "metadata": {},
   "outputs": [],
   "source": [
    "#Prepare data for the following functions\n",
    "test_photo_eid.reset_index(inplace = True, drop = True)\n",
    "validation_photo_eid.reset_index(inplace = True, drop = True)\n",
    "train_photo_eid.reset_index(inplace = True, drop = True)"
   ]
  },
  {
   "cell_type": "code",
   "execution_count": 42,
   "metadata": {},
   "outputs": [],
   "source": [
    "#Copy files to train folder\n",
    "for i in range(len(train_photo_eid)):\n",
    "    source_file = \"dev_images/\" + train_photo_eid['photo_eid'][i]\n",
    "    destination_file = \"dev_data/train_\" + str(num_class) + \"classes/\" + train_photo_eid['product_name'][i] + '/' + train_photo_eid['photo_eid'][i]\n",
    "    copyfile(source_file, destination_file)"
   ]
  },
  {
   "cell_type": "code",
   "execution_count": 43,
   "metadata": {},
   "outputs": [],
   "source": [
    "#Copy files to validation folder\n",
    "for i in range(len(validation_photo_eid)):\n",
    "    source_file = \"dev_images/\" + validation_photo_eid['photo_eid'][i]\n",
    "    destination_file = \"dev_data/validation_\" + str(num_class) + \"classes/\" + validation_photo_eid['product_name'][i] + '/' + validation_photo_eid['photo_eid'][i]\n",
    "    copyfile(source_file, destination_file)"
   ]
  },
  {
   "cell_type": "code",
   "execution_count": 44,
   "metadata": {},
   "outputs": [],
   "source": [
    "#Copy files to test folder\n",
    "for i in range(len(test_photo_eid)):\n",
    "    source_file = \"dev_images/\" + test_photo_eid['photo_eid'][i]\n",
    "    destination_file = \"dev_data/test_\" + str(num_class) + \"classes/\" + test_photo_eid['product_name'][i] + '/' + test_photo_eid['photo_eid'][i]\n",
    "    copyfile(source_file, destination_file)"
   ]
  },
  {
   "cell_type": "code",
   "execution_count": 45,
   "metadata": {},
   "outputs": [],
   "source": [
    "#Save to csv\n",
    "train_photo_eid[['photo_eid', 'pic_url', 'product_name']].to_csv('train_photo_eid_' + str(num_class) + 'classes' + '.csv', index=False)\n",
    "validation_photo_eid[['photo_eid', 'pic_url', 'product_name']].to_csv('validation_photo_eid_' + str(num_class) + 'classes' + '.csv', index=False)\n",
    "test_photo_eid[['photo_eid', 'pic_url', 'product_name']].to_csv('test_photo_eid_' + str(num_class) + 'classes' + '.csv', index=False)"
   ]
  },
  {
   "cell_type": "code",
   "execution_count": null,
   "metadata": {},
   "outputs": [],
   "source": []
  }
 ],
 "metadata": {
  "kernelspec": {
   "display_name": "Python 3",
   "language": "python",
   "name": "python3"
  },
  "language_info": {
   "codemirror_mode": {
    "name": "ipython",
    "version": 3
   },
   "file_extension": ".py",
   "mimetype": "text/x-python",
   "name": "python",
   "nbconvert_exporter": "python",
   "pygments_lexer": "ipython3",
   "version": "3.7.7"
  }
 },
 "nbformat": 4,
 "nbformat_minor": 4
}
