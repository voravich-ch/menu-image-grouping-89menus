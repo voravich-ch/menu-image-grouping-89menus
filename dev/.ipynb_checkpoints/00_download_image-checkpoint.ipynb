{
 "cells": [
  {
   "cell_type": "markdown",
   "metadata": {},
   "source": [
    "<h1> Download image files <h/>"
   ]
  },
  {
   "cell_type": "code",
   "execution_count": 1,
   "metadata": {},
   "outputs": [
    {
     "name": "stdout",
     "output_type": "stream",
     "text": [
      "Copying gs://wongnai-search/food-recognition/wn-images.zip...\n",
      "/ [1 files][ 24.4 GiB/ 24.4 GiB]   69.4 MiB/s                                   \n",
      "Operation completed over 1 objects/24.4 GiB.                                     \n"
     ]
    }
   ],
   "source": [
    "!gsutil cp gs://wongnai-search/food-recognition/wn-images.zip ../wn-images.zip"
   ]
  },
  {
   "cell_type": "markdown",
   "metadata": {},
   "source": [
    "<h1> Unzip wn-images.zip <h/>"
   ]
  },
  {
   "cell_type": "code",
   "execution_count": 2,
   "metadata": {},
   "outputs": [
    {
     "name": "stderr",
     "output_type": "stream",
     "text": [
      "100%|██████████| 121029/121029 [04:59<00:00, 403.84it/s]\n"
     ]
    }
   ],
   "source": [
    "from zipfile import ZipFile\n",
    "from tqdm import tqdm\n",
    "\n",
    "#Extract wn-images.zip to wongnai_images folder\n",
    "path = \"../wn-images.zip\"\n",
    "directory = \"../\"\n",
    "# Open your .zip file\n",
    "with ZipFile(file=path) as zip_file:\n",
    "\n",
    "    # Loop over each file\n",
    "    for file in tqdm(iterable=zip_file.namelist(), total=len(zip_file.namelist())):\n",
    "\n",
    "        # Extract each file to another directory\n",
    "        # If you want to extract to current working directory, don't specify path\n",
    "        zip_file.extract(member=file, path=directory)"
   ]
  },
  {
   "cell_type": "markdown",
   "metadata": {},
   "source": [
    "<h1> Remove wn-images.zip <h/>"
   ]
  },
  {
   "cell_type": "code",
   "execution_count": 3,
   "metadata": {},
   "outputs": [],
   "source": [
    "!rm ../wn-images.zip"
   ]
  }
 ],
 "metadata": {
  "kernelspec": {
   "display_name": "Python 3",
   "language": "python",
   "name": "python3"
  },
  "language_info": {
   "codemirror_mode": {
    "name": "ipython",
    "version": 3
   },
   "file_extension": ".py",
   "mimetype": "text/x-python",
   "name": "python",
   "nbconvert_exporter": "python",
   "pygments_lexer": "ipython3",
   "version": "3.7.6"
  }
 },
 "nbformat": 4,
 "nbformat_minor": 4
}
